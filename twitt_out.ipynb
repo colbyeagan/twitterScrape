{
 "cells": [
  {
   "cell_type": "code",
   "execution_count": null,
   "metadata": {},
   "outputs": [],
   "source": [
    "from itertools import count\n",
    "import pandas as pd\n",
    "import numpy as np\n",
    "import statistics\n",
    "from matplotlib import pyplot as plt\n",
    "import plotly.express as px\n",
    "import plotly.graph_objects as go\n",
    "from vaderSentiment.vaderSentiment import SentimentIntensityAnalyzer\n",
    "sentimentAnalyser = SentimentIntensityAnalyzer()\n",
    "\n",
    "# DO: twarc2 timeline USER tweets.jsonl \n",
    "# NEXT DO: twarc2 csv tweets.jsonl tweets.csv\n",
    "#now the users tweets are in a useable csv format\n",
    "#organizes user tweets into more readable columns\n",
    "set_df = pd.read_csv('tweets.csv')\n",
    "set_df.rename(columns={'created_at': 'date',\n",
    "                          'public_metrics.retweet_count': 'retweets', \n",
    "                          'author.username': 'username', \n",
    "                          'author.name': 'name',\n",
    "                          'author.verified': 'verified', \n",
    "                          'public_metrics.like_count': 'likes', \n",
    "                          'public_metrics.quote_count': 'quotes', \n",
    "                          'public_metrics.reply_count': 'replies',\n",
    "                           'author.description': 'user_bio'},\n",
    "                            inplace=True)\n",
    "#set_df = set_df[['text']]\n",
    "set_df = set_df[['date', 'username', 'text', 'retweets', 'likes', 'replies']]\n",
    "\n",
    "set_df.to_csv('user_tweets.csv')\n",
    "\n",
    "# List of text of all 3200 tweets from user\n",
    "#Text_list = set_df['text'].tolist()"
   ]
  },
  {
   "cell_type": "code",
   "execution_count": 1,
   "metadata": {},
   "outputs": [
    {
     "ename": "NameError",
     "evalue": "name 'np' is not defined",
     "output_type": "error",
     "traceback": [
      "\u001b[0;31m---------------------------------------------------------------------------\u001b[0m",
      "\u001b[0;31mNameError\u001b[0m                                 Traceback (most recent call last)",
      "\u001b[1;32m/Users/colbyeagan/Twitter/twitt_out.ipynb Cell 1\u001b[0m in \u001b[0;36m<cell line: 24>\u001b[0;34m()\u001b[0m\n\u001b[1;32m     <a href='vscode-notebook-cell:/Users/colbyeagan/Twitter/twitt_out.ipynb#ch0000000?line=20'>21</a>\u001b[0m     \u001b[39mlist\u001b[39m\u001b[39m.\u001b[39mappend(\u001b[39m\"\u001b[39m\u001b[39mDennis Hong\u001b[39m\u001b[39m\"\u001b[39m)\n\u001b[1;32m     <a href='vscode-notebook-cell:/Users/colbyeagan/Twitter/twitt_out.ipynb#ch0000000?line=22'>23</a>\u001b[0m dfx \u001b[39m=\u001b[39m dfx[[\u001b[39m'\u001b[39m\u001b[39musername\u001b[39m\u001b[39m'\u001b[39m, \u001b[39m'\u001b[39m\u001b[39mname\u001b[39m\u001b[39m'\u001b[39m, \u001b[39m'\u001b[39m\u001b[39mpublic_metrics\u001b[39m\u001b[39m'\u001b[39m]]\n\u001b[0;32m---> <a href='vscode-notebook-cell:/Users/colbyeagan/Twitter/twitt_out.ipynb#ch0000000?line=23'>24</a>\u001b[0m dfx[\u001b[39m'\u001b[39m\u001b[39mfollower\u001b[39m\u001b[39m'\u001b[39m] \u001b[39m=\u001b[39m np\u001b[39m.\u001b[39marray(\u001b[39mlist\u001b[39m)\n\u001b[1;32m     <a href='vscode-notebook-cell:/Users/colbyeagan/Twitter/twitt_out.ipynb#ch0000000?line=24'>25</a>\u001b[0m dfx\n",
      "\u001b[0;31mNameError\u001b[0m: name 'np' is not defined"
     ]
    }
   ],
   "source": [
    "import pandas as pd\n",
    "import json\n",
    "\n",
    "data = []\n",
    "\n",
    "for line in open('user.json', 'r'):\n",
    "\n",
    "                data.append(json.loads(line))\n",
    "\n",
    "x = []\n",
    "\n",
    "for part in data:\n",
    "\n",
    "                part = part['data']\n",
    "\n",
    "                x+=part\n",
    "\n",
    "dfx = pd.DataFrame(x)\n",
    "list = []\n",
    "for x in range(len(dfx)):\n",
    "    list.append(\"Dennis Hong\")\n",
    "\n",
    "dfx = dfx[['username', 'name', 'public_metrics']]\n",
    "dfx['follower'] = np.array(list)\n",
    "dfx"
   ]
  },
  {
   "cell_type": "code",
   "execution_count": null,
   "metadata": {},
   "outputs": [],
   "source": [
    "from itertools import count\n",
    "import pandas as pd\n",
    "import numpy as np\n",
    "import statistics\n",
    "from matplotlib import pyplot as plt\n",
    "import plotly.express as px\n",
    "import plotly.graph_objects as go\n",
    "from vaderSentiment.vaderSentiment import SentimentIntensityAnalyzer\n",
    "sentimentAnalyser = SentimentIntensityAnalyzer()\n",
    "import pandas as pd\n",
    "\n",
    "import json\n",
    "\n",
    " \n",
    "\n",
    "with open('user.json','r') as file:\n",
    "\n",
    "                x = file.read()\n",
    "\n",
    "file.close()\n",
    "\n",
    " \n",
    "\n",
    "x = json.loads(x)\n",
    "\n",
    "x = x['data']\n",
    "\n",
    " \n",
    "\n",
    "dfx = pd.DataFrame(x)\n",
    "list = []\n",
    "for x in range(len(dfx)):\n",
    "    list.append(\"Deep Sail\")\n",
    "\n",
    "dfx = dfx[['username', 'name', 'public_metrics']]\n",
    "dfx['follower'] = np.array(list)\n",
    "#dfy = dfy.append(dfx, ignore_index=True"
   ]
  },
  {
   "cell_type": "code",
   "execution_count": null,
   "metadata": {},
   "outputs": [],
   "source": [
    "import pandas as pd\n",
    "dfy = dfx"
   ]
  },
  {
   "cell_type": "code",
   "execution_count": null,
   "metadata": {},
   "outputs": [],
   "source": [
    "dfy = pd.concat([dfx, dfy], ignore_index=True, sort+False)"
   ]
  },
  {
   "cell_type": "code",
   "execution_count": null,
   "metadata": {},
   "outputs": [],
   "source": [
    "dfy.to_csv('user.csv')"
   ]
  },
  {
   "cell_type": "code",
   "execution_count": null,
   "metadata": {},
   "outputs": [],
   "source": []
  }
 ],
 "metadata": {
  "kernelspec": {
   "display_name": "Python 3.10.5 64-bit",
   "language": "python",
   "name": "python3"
  },
  "language_info": {
   "codemirror_mode": {
    "name": "ipython",
    "version": 3
   },
   "file_extension": ".py",
   "mimetype": "text/x-python",
   "name": "python",
   "nbconvert_exporter": "python",
   "pygments_lexer": "ipython3",
   "version": "3.10.5"
  },
  "orig_nbformat": 4,
  "vscode": {
   "interpreter": {
    "hash": "aee8b7b246df8f9039afb4144a1f6fd8d2ca17a180786b69acc140d282b71a49"
   }
  }
 },
 "nbformat": 4,
 "nbformat_minor": 2
}
